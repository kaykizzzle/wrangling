{
  "cells": [
    {
      "cell_type": "markdown",
      "id": "13ad028b-72b7-43ed-aa78-96fd4e518040",
      "metadata": {
        "id": "13ad028b-72b7-43ed-aa78-96fd4e518040"
      },
      "source": [
        "# Assignment: Data Wrangling"
      ]
    },
    {
      "cell_type": "code",
      "source": [
        "! git clone https://github.com/DS3001/wrangling"
      ],
      "metadata": {
        "id": "NLdAg1cq3QY9",
        "outputId": "dad5b216-c5ce-41bf-8939-207a494db049",
        "colab": {
          "base_uri": "https://localhost:8080/"
        }
      },
      "id": "NLdAg1cq3QY9",
      "execution_count": 208,
      "outputs": [
        {
          "output_type": "stream",
          "name": "stdout",
          "text": [
            "fatal: destination path 'wrangling' already exists and is not an empty directory.\n"
          ]
        }
      ]
    },
    {
      "cell_type": "markdown",
      "id": "5735a4d4-8be8-433a-a351-70eb8002e632",
      "metadata": {
        "id": "5735a4d4-8be8-433a-a351-70eb8002e632"
      },
      "source": [
        "**Q1.** Open the \"tidy_data.pdf\" document in the repo, which is a paper called Tidy Data by Hadley Wickham.\n",
        "\n",
        "  1. Read the abstract. What is this paper about?\n",
        "\n",
        "Wickham explores the abstract aspects of data cleaning, proposing a criterion where each row represents an observation, each column a variable, and each type of observational unit a distinct table, beyond just removing NA values.\n",
        "  2. Read the introduction. What is the \"tidy data standard\" intended to accomplish?\n",
        "\n",
        "Despite its importance, data cleaning remains an understudied skill or activity, with the \"tidy data standard\" aiming to standardize and simplify the process by clarifying objectives and typical steps involved.\n",
        "  3. Read the intro to section 2. What does this sentence mean: \"Like families, tidy datasets are all alike but every messy dataset is messy in its own way.\" What does this sentence mean: \"For a given dataset, it’s usually easy to figure out what are observations and what are variables, but it is surprisingly difficult to precisely define variables and observations in general.\"\n",
        "\n",
        "\n",
        "Messy data present unique challenges compared to clean data structured for specific needs in R. While the intuitive \"Data frame/matrix\" concept associates rows with observations and columns with variables, it's crucial to adopt this consciously to avoid misinterpretation, as seen with county-year data leading to inadvertent errors in cleaning and organizing.\n",
        "  4. Read Section 2.2. How does Wickham define values, variables, and observations?\n",
        "\n",
        "A dataset consists of numeric or categorical/string values, each associated with both a variable (measuring a specific attribute) and an observation (reflecting the data point).\n",
        "  5. How is \"Tidy Data\" defined in section 2.3?\n",
        "\n",
        "In tidy data, variables are columns, observations are rows, and each unit type forms a table; otherwise, it's messy.\n",
        "  6. Read the intro to Section 3 and Section 3.1. What are the 5 most common problems with messy datasets? Why are the data in Table 4 messy? What is \"melting\" a dataset?\n",
        "\n",
        "Column headers representing values instead of variable names.\n",
        "Multiple variables stored in one column.\n",
        "Variables stored in both rows and columns.\n",
        "Multiple types of observational units stored in the same table.\n",
        "A single observational unit stored in multiple tables, leading to data duplication and the need for subsequent cleaning.\n",
        "In Table 4, the data is messy because the columns represent values of a \"hidden\" variable (income) rather than being explicit variable names, requiring the addition of a new column for income alongside other variables.\n",
        "\n",
        "Melting a dataset refers to the process of converting column-value variables into rows to tidy up the data.\n",
        "  7. Why, specifically, is table 11 messy but table 12 tidy and \"molten\"?\n",
        "\n",
        "Table 11 lists days as values, while Table 12 condenses them into a single variable \"date\". However, Table 12 is still untidy because the \"element\" variable contains variable names (e.g., tmax and tmin) rather than values. Table 12(b) is tidy as it only contains attribute entries, not variable names.\n",
        "  8. Read Section 6. What is the \"chicken-and-egg\" problem with focusing on tidy data? What does Wickham hope happens in the future with further work on the subject of data wrangling?\n",
        "\n",
        "Wickham desires a broader philosophy of data cleaning, hoping that the tidy concept transcends mere tool promotion and fosters a more extensive and robust ecosystem of ideas and tools for data science."
      ]
    },
    {
      "cell_type": "markdown",
      "id": "da879ea7-8aac-48a3-b6c2-daea56d2e072",
      "metadata": {
        "id": "da879ea7-8aac-48a3-b6c2-daea56d2e072"
      },
      "source": [
        "**Q2.** This question provides some practice cleaning variables which have common problems.\n",
        "1. Numeric variable: For `./data/airbnb_hw.csv`, clean the `Price` variable as well as you can, and explain the choices you make. How many missing values do you end up with? (Hint: What happens to the formatting when a price goes over 999 dollars, say from 675 to 1,112?)\n",
        "2. Categorical variable: For the `./data/sharks.csv` data covered in the lecture, clean the \"Type\" variable as well as you can, and explain the choices you make.\n",
        "3. Dummy variable: For the pretrial data covered in the lecture, clean the `WhetherDefendantWasReleasedPretrial` variable as well as you can, and, in particular, replace missing values with `np.nan`.\n",
        "4. Missing values, not at random: For the pretrial data covered in the lecture, clean the `ImposedSentenceAllChargeInContactEvent` variable as well as you can, and explain the choices you make. (Hint: Look at the `SentenceTypeAllChargesAtConvictionInContactEvent` variable.)"
      ]
    },
    {
      "cell_type": "code",
      "source": [
        "import pandas as pd\n",
        "import numpy as np\n",
        "import seaborn as sns"
      ],
      "metadata": {
        "id": "jiLsKDP-3LZA"
      },
      "id": "jiLsKDP-3LZA",
      "execution_count": 209,
      "outputs": []
    },
    {
      "cell_type": "code",
      "source": [
        "df = pd.read_csv('/content/wrangling/assignment/data/airbnb_hw.csv', low_memory=False)\n",
        "print( df.shape)\n",
        "df.head()"
      ],
      "metadata": {
        "id": "AuFYV78B3WvE",
        "outputId": "df8ff0bf-12a2-47c3-d07a-6ca4090b013e",
        "colab": {
          "base_uri": "https://localhost:8080/",
          "height": 487
        }
      },
      "id": "AuFYV78B3WvE",
      "execution_count": 210,
      "outputs": [
        {
          "output_type": "stream",
          "name": "stdout",
          "text": [
            "(30478, 13)\n"
          ]
        },
        {
          "output_type": "execute_result",
          "data": {
            "text/plain": [
              "    Host Id Host Since                                Name Neighbourhood   \\\n",
              "0   5162530        NaN     1 Bedroom in Prime Williamsburg       Brooklyn   \n",
              "1  33134899        NaN     Sunny, Private room in Bushwick       Brooklyn   \n",
              "2  39608626        NaN                Sunny Room in Harlem      Manhattan   \n",
              "3       500  6/26/2008  Gorgeous 1 BR with Private Balcony      Manhattan   \n",
              "4       500  6/26/2008            Trendy Times Square Loft      Manhattan   \n",
              "\n",
              "  Property Type  Review Scores Rating (bin)        Room Type  Zipcode  Beds  \\\n",
              "0     Apartment                         NaN  Entire home/apt  11249.0   1.0   \n",
              "1     Apartment                         NaN     Private room  11206.0   1.0   \n",
              "2     Apartment                         NaN     Private room  10032.0   1.0   \n",
              "3     Apartment                         NaN  Entire home/apt  10024.0   3.0   \n",
              "4     Apartment                        95.0     Private room  10036.0   3.0   \n",
              "\n",
              "   Number of Records  Number Of Reviews Price  Review Scores Rating  \n",
              "0                  1                  0   145                   NaN  \n",
              "1                  1                  1    37                   NaN  \n",
              "2                  1                  1    28                   NaN  \n",
              "3                  1                  0   199                   NaN  \n",
              "4                  1                 39   549                  96.0  "
            ],
            "text/html": [
              "\n",
              "  <div id=\"df-52c996c2-5640-49ed-99b6-9fcd21cb60f8\" class=\"colab-df-container\">\n",
              "    <div>\n",
              "<style scoped>\n",
              "    .dataframe tbody tr th:only-of-type {\n",
              "        vertical-align: middle;\n",
              "    }\n",
              "\n",
              "    .dataframe tbody tr th {\n",
              "        vertical-align: top;\n",
              "    }\n",
              "\n",
              "    .dataframe thead th {\n",
              "        text-align: right;\n",
              "    }\n",
              "</style>\n",
              "<table border=\"1\" class=\"dataframe\">\n",
              "  <thead>\n",
              "    <tr style=\"text-align: right;\">\n",
              "      <th></th>\n",
              "      <th>Host Id</th>\n",
              "      <th>Host Since</th>\n",
              "      <th>Name</th>\n",
              "      <th>Neighbourhood</th>\n",
              "      <th>Property Type</th>\n",
              "      <th>Review Scores Rating (bin)</th>\n",
              "      <th>Room Type</th>\n",
              "      <th>Zipcode</th>\n",
              "      <th>Beds</th>\n",
              "      <th>Number of Records</th>\n",
              "      <th>Number Of Reviews</th>\n",
              "      <th>Price</th>\n",
              "      <th>Review Scores Rating</th>\n",
              "    </tr>\n",
              "  </thead>\n",
              "  <tbody>\n",
              "    <tr>\n",
              "      <th>0</th>\n",
              "      <td>5162530</td>\n",
              "      <td>NaN</td>\n",
              "      <td>1 Bedroom in Prime Williamsburg</td>\n",
              "      <td>Brooklyn</td>\n",
              "      <td>Apartment</td>\n",
              "      <td>NaN</td>\n",
              "      <td>Entire home/apt</td>\n",
              "      <td>11249.0</td>\n",
              "      <td>1.0</td>\n",
              "      <td>1</td>\n",
              "      <td>0</td>\n",
              "      <td>145</td>\n",
              "      <td>NaN</td>\n",
              "    </tr>\n",
              "    <tr>\n",
              "      <th>1</th>\n",
              "      <td>33134899</td>\n",
              "      <td>NaN</td>\n",
              "      <td>Sunny, Private room in Bushwick</td>\n",
              "      <td>Brooklyn</td>\n",
              "      <td>Apartment</td>\n",
              "      <td>NaN</td>\n",
              "      <td>Private room</td>\n",
              "      <td>11206.0</td>\n",
              "      <td>1.0</td>\n",
              "      <td>1</td>\n",
              "      <td>1</td>\n",
              "      <td>37</td>\n",
              "      <td>NaN</td>\n",
              "    </tr>\n",
              "    <tr>\n",
              "      <th>2</th>\n",
              "      <td>39608626</td>\n",
              "      <td>NaN</td>\n",
              "      <td>Sunny Room in Harlem</td>\n",
              "      <td>Manhattan</td>\n",
              "      <td>Apartment</td>\n",
              "      <td>NaN</td>\n",
              "      <td>Private room</td>\n",
              "      <td>10032.0</td>\n",
              "      <td>1.0</td>\n",
              "      <td>1</td>\n",
              "      <td>1</td>\n",
              "      <td>28</td>\n",
              "      <td>NaN</td>\n",
              "    </tr>\n",
              "    <tr>\n",
              "      <th>3</th>\n",
              "      <td>500</td>\n",
              "      <td>6/26/2008</td>\n",
              "      <td>Gorgeous 1 BR with Private Balcony</td>\n",
              "      <td>Manhattan</td>\n",
              "      <td>Apartment</td>\n",
              "      <td>NaN</td>\n",
              "      <td>Entire home/apt</td>\n",
              "      <td>10024.0</td>\n",
              "      <td>3.0</td>\n",
              "      <td>1</td>\n",
              "      <td>0</td>\n",
              "      <td>199</td>\n",
              "      <td>NaN</td>\n",
              "    </tr>\n",
              "    <tr>\n",
              "      <th>4</th>\n",
              "      <td>500</td>\n",
              "      <td>6/26/2008</td>\n",
              "      <td>Trendy Times Square Loft</td>\n",
              "      <td>Manhattan</td>\n",
              "      <td>Apartment</td>\n",
              "      <td>95.0</td>\n",
              "      <td>Private room</td>\n",
              "      <td>10036.0</td>\n",
              "      <td>3.0</td>\n",
              "      <td>1</td>\n",
              "      <td>39</td>\n",
              "      <td>549</td>\n",
              "      <td>96.0</td>\n",
              "    </tr>\n",
              "  </tbody>\n",
              "</table>\n",
              "</div>\n",
              "    <div class=\"colab-df-buttons\">\n",
              "\n",
              "  <div class=\"colab-df-container\">\n",
              "    <button class=\"colab-df-convert\" onclick=\"convertToInteractive('df-52c996c2-5640-49ed-99b6-9fcd21cb60f8')\"\n",
              "            title=\"Convert this dataframe to an interactive table.\"\n",
              "            style=\"display:none;\">\n",
              "\n",
              "  <svg xmlns=\"http://www.w3.org/2000/svg\" height=\"24px\" viewBox=\"0 -960 960 960\">\n",
              "    <path d=\"M120-120v-720h720v720H120Zm60-500h600v-160H180v160Zm220 220h160v-160H400v160Zm0 220h160v-160H400v160ZM180-400h160v-160H180v160Zm440 0h160v-160H620v160ZM180-180h160v-160H180v160Zm440 0h160v-160H620v160Z\"/>\n",
              "  </svg>\n",
              "    </button>\n",
              "\n",
              "  <style>\n",
              "    .colab-df-container {\n",
              "      display:flex;\n",
              "      gap: 12px;\n",
              "    }\n",
              "\n",
              "    .colab-df-convert {\n",
              "      background-color: #E8F0FE;\n",
              "      border: none;\n",
              "      border-radius: 50%;\n",
              "      cursor: pointer;\n",
              "      display: none;\n",
              "      fill: #1967D2;\n",
              "      height: 32px;\n",
              "      padding: 0 0 0 0;\n",
              "      width: 32px;\n",
              "    }\n",
              "\n",
              "    .colab-df-convert:hover {\n",
              "      background-color: #E2EBFA;\n",
              "      box-shadow: 0px 1px 2px rgba(60, 64, 67, 0.3), 0px 1px 3px 1px rgba(60, 64, 67, 0.15);\n",
              "      fill: #174EA6;\n",
              "    }\n",
              "\n",
              "    .colab-df-buttons div {\n",
              "      margin-bottom: 4px;\n",
              "    }\n",
              "\n",
              "    [theme=dark] .colab-df-convert {\n",
              "      background-color: #3B4455;\n",
              "      fill: #D2E3FC;\n",
              "    }\n",
              "\n",
              "    [theme=dark] .colab-df-convert:hover {\n",
              "      background-color: #434B5C;\n",
              "      box-shadow: 0px 1px 3px 1px rgba(0, 0, 0, 0.15);\n",
              "      filter: drop-shadow(0px 1px 2px rgba(0, 0, 0, 0.3));\n",
              "      fill: #FFFFFF;\n",
              "    }\n",
              "  </style>\n",
              "\n",
              "    <script>\n",
              "      const buttonEl =\n",
              "        document.querySelector('#df-52c996c2-5640-49ed-99b6-9fcd21cb60f8 button.colab-df-convert');\n",
              "      buttonEl.style.display =\n",
              "        google.colab.kernel.accessAllowed ? 'block' : 'none';\n",
              "\n",
              "      async function convertToInteractive(key) {\n",
              "        const element = document.querySelector('#df-52c996c2-5640-49ed-99b6-9fcd21cb60f8');\n",
              "        const dataTable =\n",
              "          await google.colab.kernel.invokeFunction('convertToInteractive',\n",
              "                                                    [key], {});\n",
              "        if (!dataTable) return;\n",
              "\n",
              "        const docLinkHtml = 'Like what you see? Visit the ' +\n",
              "          '<a target=\"_blank\" href=https://colab.research.google.com/notebooks/data_table.ipynb>data table notebook</a>'\n",
              "          + ' to learn more about interactive tables.';\n",
              "        element.innerHTML = '';\n",
              "        dataTable['output_type'] = 'display_data';\n",
              "        await google.colab.output.renderOutput(dataTable, element);\n",
              "        const docLink = document.createElement('div');\n",
              "        docLink.innerHTML = docLinkHtml;\n",
              "        element.appendChild(docLink);\n",
              "      }\n",
              "    </script>\n",
              "  </div>\n",
              "\n",
              "\n",
              "<div id=\"df-0a1cf559-ae75-4ecc-8efd-430bcc0e8691\">\n",
              "  <button class=\"colab-df-quickchart\" onclick=\"quickchart('df-0a1cf559-ae75-4ecc-8efd-430bcc0e8691')\"\n",
              "            title=\"Suggest charts\"\n",
              "            style=\"display:none;\">\n",
              "\n",
              "<svg xmlns=\"http://www.w3.org/2000/svg\" height=\"24px\"viewBox=\"0 0 24 24\"\n",
              "     width=\"24px\">\n",
              "    <g>\n",
              "        <path d=\"M19 3H5c-1.1 0-2 .9-2 2v14c0 1.1.9 2 2 2h14c1.1 0 2-.9 2-2V5c0-1.1-.9-2-2-2zM9 17H7v-7h2v7zm4 0h-2V7h2v10zm4 0h-2v-4h2v4z\"/>\n",
              "    </g>\n",
              "</svg>\n",
              "  </button>\n",
              "\n",
              "<style>\n",
              "  .colab-df-quickchart {\n",
              "      --bg-color: #E8F0FE;\n",
              "      --fill-color: #1967D2;\n",
              "      --hover-bg-color: #E2EBFA;\n",
              "      --hover-fill-color: #174EA6;\n",
              "      --disabled-fill-color: #AAA;\n",
              "      --disabled-bg-color: #DDD;\n",
              "  }\n",
              "\n",
              "  [theme=dark] .colab-df-quickchart {\n",
              "      --bg-color: #3B4455;\n",
              "      --fill-color: #D2E3FC;\n",
              "      --hover-bg-color: #434B5C;\n",
              "      --hover-fill-color: #FFFFFF;\n",
              "      --disabled-bg-color: #3B4455;\n",
              "      --disabled-fill-color: #666;\n",
              "  }\n",
              "\n",
              "  .colab-df-quickchart {\n",
              "    background-color: var(--bg-color);\n",
              "    border: none;\n",
              "    border-radius: 50%;\n",
              "    cursor: pointer;\n",
              "    display: none;\n",
              "    fill: var(--fill-color);\n",
              "    height: 32px;\n",
              "    padding: 0;\n",
              "    width: 32px;\n",
              "  }\n",
              "\n",
              "  .colab-df-quickchart:hover {\n",
              "    background-color: var(--hover-bg-color);\n",
              "    box-shadow: 0 1px 2px rgba(60, 64, 67, 0.3), 0 1px 3px 1px rgba(60, 64, 67, 0.15);\n",
              "    fill: var(--button-hover-fill-color);\n",
              "  }\n",
              "\n",
              "  .colab-df-quickchart-complete:disabled,\n",
              "  .colab-df-quickchart-complete:disabled:hover {\n",
              "    background-color: var(--disabled-bg-color);\n",
              "    fill: var(--disabled-fill-color);\n",
              "    box-shadow: none;\n",
              "  }\n",
              "\n",
              "  .colab-df-spinner {\n",
              "    border: 2px solid var(--fill-color);\n",
              "    border-color: transparent;\n",
              "    border-bottom-color: var(--fill-color);\n",
              "    animation:\n",
              "      spin 1s steps(1) infinite;\n",
              "  }\n",
              "\n",
              "  @keyframes spin {\n",
              "    0% {\n",
              "      border-color: transparent;\n",
              "      border-bottom-color: var(--fill-color);\n",
              "      border-left-color: var(--fill-color);\n",
              "    }\n",
              "    20% {\n",
              "      border-color: transparent;\n",
              "      border-left-color: var(--fill-color);\n",
              "      border-top-color: var(--fill-color);\n",
              "    }\n",
              "    30% {\n",
              "      border-color: transparent;\n",
              "      border-left-color: var(--fill-color);\n",
              "      border-top-color: var(--fill-color);\n",
              "      border-right-color: var(--fill-color);\n",
              "    }\n",
              "    40% {\n",
              "      border-color: transparent;\n",
              "      border-right-color: var(--fill-color);\n",
              "      border-top-color: var(--fill-color);\n",
              "    }\n",
              "    60% {\n",
              "      border-color: transparent;\n",
              "      border-right-color: var(--fill-color);\n",
              "    }\n",
              "    80% {\n",
              "      border-color: transparent;\n",
              "      border-right-color: var(--fill-color);\n",
              "      border-bottom-color: var(--fill-color);\n",
              "    }\n",
              "    90% {\n",
              "      border-color: transparent;\n",
              "      border-bottom-color: var(--fill-color);\n",
              "    }\n",
              "  }\n",
              "</style>\n",
              "\n",
              "  <script>\n",
              "    async function quickchart(key) {\n",
              "      const quickchartButtonEl =\n",
              "        document.querySelector('#' + key + ' button');\n",
              "      quickchartButtonEl.disabled = true;  // To prevent multiple clicks.\n",
              "      quickchartButtonEl.classList.add('colab-df-spinner');\n",
              "      try {\n",
              "        const charts = await google.colab.kernel.invokeFunction(\n",
              "            'suggestCharts', [key], {});\n",
              "      } catch (error) {\n",
              "        console.error('Error during call to suggestCharts:', error);\n",
              "      }\n",
              "      quickchartButtonEl.classList.remove('colab-df-spinner');\n",
              "      quickchartButtonEl.classList.add('colab-df-quickchart-complete');\n",
              "    }\n",
              "    (() => {\n",
              "      let quickchartButtonEl =\n",
              "        document.querySelector('#df-0a1cf559-ae75-4ecc-8efd-430bcc0e8691 button');\n",
              "      quickchartButtonEl.style.display =\n",
              "        google.colab.kernel.accessAllowed ? 'block' : 'none';\n",
              "    })();\n",
              "  </script>\n",
              "</div>\n",
              "\n",
              "    </div>\n",
              "  </div>\n"
            ]
          },
          "metadata": {},
          "execution_count": 210
        }
      ]
    },
    {
      "cell_type": "code",
      "source": [
        "var = \"Price\"\n",
        "df[var] = df[var].str.replace(\",\", \"\") #make data easier to coerce into numeric\n",
        "df[var].unique()"
      ],
      "metadata": {
        "id": "Dv43ukTE3lAM",
        "outputId": "ba5e4ed4-f57a-4903-dc37-a5bb96adc3a4",
        "colab": {
          "base_uri": "https://localhost:8080/"
        }
      },
      "id": "Dv43ukTE3lAM",
      "execution_count": 211,
      "outputs": [
        {
          "output_type": "execute_result",
          "data": {
            "text/plain": [
              "array(['145', '37', '28', '199', '549', '149', '250', '90', '270', '290',\n",
              "       '170', '59', '49', '68', '285', '75', '100', '150', '700', '125',\n",
              "       '175', '40', '89', '95', '99', '499', '120', '79', '110', '180',\n",
              "       '143', '230', '350', '135', '85', '60', '70', '55', '44', '200',\n",
              "       '165', '115', '74', '84', '129', '50', '185', '80', '190', '140',\n",
              "       '45', '65', '225', '600', '109', '1990', '73', '240', '72', '105',\n",
              "       '155', '160', '42', '132', '117', '295', '280', '159', '107', '69',\n",
              "       '239', '220', '399', '130', '375', '585', '275', '139', '260',\n",
              "       '35', '133', '300', '289', '179', '98', '195', '29', '27', '39',\n",
              "       '249', '192', '142', '169', '1000', '131', '138', '113', '122',\n",
              "       '329', '101', '475', '238', '272', '308', '126', '235', '315',\n",
              "       '248', '128', '56', '207', '450', '215', '210', '385', '445',\n",
              "       '136', '247', '118', '77', '76', '92', '198', '205', '299', '222',\n",
              "       '245', '104', '153', '349', '114', '320', '292', '226', '420',\n",
              "       '500', '325', '307', '78', '265', '108', '123', '189', '32', '58',\n",
              "       '86', '219', '800', '335', '63', '229', '425', '67', '87', '1200',\n",
              "       '158', '650', '234', '310', '695', '400', '166', '119', '62',\n",
              "       '168', '340', '479', '43', '395', '144', '52', '47', '529', '187',\n",
              "       '209', '233', '82', '269', '163', '172', '305', '156', '550',\n",
              "       '435', '137', '124', '48', '279', '330', '5000', '134', '378',\n",
              "       '97', '277', '64', '193', '147', '186', '264', '30', '3000', '112',\n",
              "       '94', '379', '57', '415', '236', '410', '214', '88', '66', '71',\n",
              "       '171', '157', '545', '1500', '83', '96', '1800', '81', '188',\n",
              "       '380', '255', '505', '54', '33', '174', '93', '740', '640', '1300',\n",
              "       '440', '599', '357', '1239', '495', '127', '5999', '178', '348',\n",
              "       '152', '242', '183', '253', '750', '259', '365', '273', '197',\n",
              "       '397', '103', '389', '355', '559', '38', '203', '999', '141',\n",
              "       '162', '333', '698', '46', '360', '895', '10', '41', '206', '281',\n",
              "       '449', '388', '212', '102', '201', '2750', '4750', '432', '675',\n",
              "       '167', '390', '298', '339', '194', '302', '211', '595', '191',\n",
              "       '53', '361', '480', '8000', '4500', '459', '997', '345', '216',\n",
              "       '218', '111', '735', '276', '91', '490', '850', '398', '36', '775',\n",
              "       '267', '625', '336', '2500', '176', '725', '3750', '469', '106',\n",
              "       '460', '287', '575', '227', '263', '25', '228', '208', '177',\n",
              "       '880', '148', '116', '685', '470', '217', '164', '61', '645',\n",
              "       '699', '405', '252', '319', '268', '419', '343', '525', '311',\n",
              "       '840', '154', '294', '950', '409', '184', '257', '204', '241',\n",
              "       '2000', '412', '121', '288', '196', '900', '647', '524', '1750',\n",
              "       '309', '510', '1495', '1700', '799', '383', '372', '492', '327',\n",
              "       '1999', '656', '224', '173', '875', '1170', '795', '690', '146',\n",
              "       '465', '1100', '151', '274', '429', '825', '282', '256', '1111',\n",
              "       '620', '271', '161', '51', '855', '579', '1174', '430', '20',\n",
              "       '899', '649', '485', '181', '455', '4000', '243', '342', '590',\n",
              "       '560', '374', '437', '232', '359', '985', '31', '244', '254',\n",
              "       '723', '237', '428', '370', '34', '1400', '580', '2520', '221',\n",
              "       '749', '1600', '2695', '306', '202', '680', '570', '520', '223',\n",
              "       '2295', '213', '1065', '346', '24', '286', '296', '266', '26',\n",
              "       '995', '1368', '393', '182', '635', '258', '780', '589', '347',\n",
              "       '1250', '1350', '446', '3200', '1050', '1650', '1550', '975',\n",
              "       '323', '6500', '2499', '1850', '2250', '715', '461', '540', '356',\n",
              "       '439', '384', '569', '1900', '22', '785', '626', '830', '318',\n",
              "       '444', '321', '401', '1499', '888', '369', '770', '386', '366',\n",
              "       '344', '630', '313', '597', '262', '509', '10000', '278', '312',\n",
              "       '789', '1195', '422', '21', '765', '3500', '945', '326', '3100',\n",
              "       '2486', '3390', '1356', '2599', '472', '454', '328', '396', '291'],\n",
              "      dtype=object)"
            ]
          },
          "metadata": {},
          "execution_count": 211
        }
      ]
    },
    {
      "cell_type": "code",
      "source": [
        "df[var] = pd.to_numeric(df[var], errors='coerce') #coerce str to num\n",
        "print(df[var].unique())\n",
        "# doesn't look like there are any values missing for price but to check:\n",
        "sum(df[var].isnull()) #gives zero (0)"
      ],
      "metadata": {
        "id": "gOSeURWE5Ols",
        "outputId": "e63e61e0-11c6-4f38-e5a0-3d58ddc1a72a",
        "colab": {
          "base_uri": "https://localhost:8080/"
        }
      },
      "id": "gOSeURWE5Ols",
      "execution_count": 212,
      "outputs": [
        {
          "output_type": "stream",
          "name": "stdout",
          "text": [
            "[  145    37    28   199   549   149   250    90   270   290   170    59\n",
            "    49    68   285    75   100   150   700   125   175    40    89    95\n",
            "    99   499   120    79   110   180   143   230   350   135    85    60\n",
            "    70    55    44   200   165   115    74    84   129    50   185    80\n",
            "   190   140    45    65   225   600   109  1990    73   240    72   105\n",
            "   155   160    42   132   117   295   280   159   107    69   239   220\n",
            "   399   130   375   585   275   139   260    35   133   300   289   179\n",
            "    98   195    29    27    39   249   192   142   169  1000   131   138\n",
            "   113   122   329   101   475   238   272   308   126   235   315   248\n",
            "   128    56   207   450   215   210   385   445   136   247   118    77\n",
            "    76    92   198   205   299   222   245   104   153   349   114   320\n",
            "   292   226   420   500   325   307    78   265   108   123   189    32\n",
            "    58    86   219   800   335    63   229   425    67    87  1200   158\n",
            "   650   234   310   695   400   166   119    62   168   340   479    43\n",
            "   395   144    52    47   529   187   209   233    82   269   163   172\n",
            "   305   156   550   435   137   124    48   279   330  5000   134   378\n",
            "    97   277    64   193   147   186   264    30  3000   112    94   379\n",
            "    57   415   236   410   214    88    66    71   171   157   545  1500\n",
            "    83    96  1800    81   188   380   255   505    54    33   174    93\n",
            "   740   640  1300   440   599   357  1239   495   127  5999   178   348\n",
            "   152   242   183   253   750   259   365   273   197   397   103   389\n",
            "   355   559    38   203   999   141   162   333   698    46   360   895\n",
            "    10    41   206   281   449   388   212   102   201  2750  4750   432\n",
            "   675   167   390   298   339   194   302   211   595   191    53   361\n",
            "   480  8000  4500   459   997   345   216   218   111   735   276    91\n",
            "   490   850   398    36   775   267   625   336  2500   176   725  3750\n",
            "   469   106   460   287   575   227   263    25   228   208   177   880\n",
            "   148   116   685   470   217   164    61   645   699   405   252   319\n",
            "   268   419   343   525   311   840   154   294   950   409   184   257\n",
            "   204   241  2000   412   121   288   196   900   647   524  1750   309\n",
            "   510  1495  1700   799   383   372   492   327  1999   656   224   173\n",
            "   875  1170   795   690   146   465  1100   151   274   429   825   282\n",
            "   256  1111   620   271   161    51   855   579  1174   430    20   899\n",
            "   649   485   181   455  4000   243   342   590   560   374   437   232\n",
            "   359   985    31   244   254   723   237   428   370    34  1400   580\n",
            "  2520   221   749  1600  2695   306   202   680   570   520   223  2295\n",
            "   213  1065   346    24   286   296   266    26   995  1368   393   182\n",
            "   635   258   780   589   347  1250  1350   446  3200  1050  1650  1550\n",
            "   975   323  6500  2499  1850  2250   715   461   540   356   439   384\n",
            "   569  1900    22   785   626   830   318   444   321   401  1499   888\n",
            "   369   770   386   366   344   630   313   597   262   509 10000   278\n",
            "   312   789  1195   422    21   765  3500   945   326  3100  2486  3390\n",
            "  1356  2599   472   454   328   396   291]\n"
          ]
        },
        {
          "output_type": "execute_result",
          "data": {
            "text/plain": [
              "0"
            ]
          },
          "metadata": {},
          "execution_count": 212
        }
      ]
    },
    {
      "cell_type": "code",
      "source": [
        "sdf = pd.read_csv(\"/content/wrangling/assignment/data/sharks.csv\", low_memory = False)\n",
        "svar = \"Type\"\n",
        "print(sdf.shape)"
      ],
      "metadata": {
        "id": "44fGqw5r6Wqo",
        "outputId": "0a041053-d080-4bff-ef24-c2b79ad09f07",
        "colab": {
          "base_uri": "https://localhost:8080/"
        }
      },
      "id": "44fGqw5r6Wqo",
      "execution_count": 213,
      "outputs": [
        {
          "output_type": "stream",
          "name": "stdout",
          "text": [
            "(6462, 257)\n"
          ]
        }
      ]
    },
    {
      "cell_type": "code",
      "source": [
        "sdf[svar] = sdf[svar].str.replace(\"Boatomg\", \"Watercraft\") #likely a typo for boating\n",
        "sdf[svar] = sdf[svar].str.replace(\"Boating\", \"Watercraft\") #occured on a boat, which is a watercraft\n",
        "sdf[svar] = sdf[svar].str.replace(\"Boat\", \"Watercraft\") #occured on a boat, which is a watercraft\n",
        "sdf[svar] = sdf[svar].str.replace(\"Unverified\", \"Unconfirmed\") #these two are synonymous\n",
        "sdf[svar] = sdf[svar].str.replace(\"Questionable\", \"Unconfirmed\") #these two are synonymous\n",
        "sdf[svar] = sdf[svar].str.replace(\"Sea Disaster\", \"Invalid\") #idk what sea disaster even means, aren't these all sea disasters? lol, seems invalidating if I can't deduce the type\n",
        "sdf[svar] = sdf[svar].str.replace(\"Under investigation\", \"Unconfirmed\") #These seem synonymous to me as well\n",
        "print(sdf[svar].unique())\n",
        "print(sdf['Type'].value_counts())"
      ],
      "metadata": {
        "id": "t7kfg8_Y79lG",
        "outputId": "b0a93e22-11de-48d0-b9eb-26f1e94472eb",
        "colab": {
          "base_uri": "https://localhost:8080/"
        }
      },
      "id": "t7kfg8_Y79lG",
      "execution_count": 214,
      "outputs": [
        {
          "output_type": "stream",
          "name": "stdout",
          "text": [
            "['Unprovoked' 'Provoked' 'Unconfirmed' 'Watercraft' 'Invalid' nan]\n",
            "Unprovoked     4716\n",
            "Invalid         791\n",
            "Provoked        593\n",
            "Watercraft      344\n",
            "Unconfirmed      13\n",
            "Name: Type, dtype: int64\n"
          ]
        }
      ]
    },
    {
      "cell_type": "code",
      "source": [
        "url = 'http://www.vcsc.virginia.gov/pretrialdataproject/October%202017%20Cohort_Virginia%20Pretrial%20Data%20Project_Deidentified%20FINAL%20Update_10272021.csv'\n",
        "ndf = pd.read_csv(url,low_memory=False)\n",
        "nvar = \"WhetherDefendantWasReleasedPretrial\"\n",
        "print(ndf.shape)\n",
        "print(ndf[nvar].unique())"
      ],
      "metadata": {
        "id": "7F1IjD2KAGLF",
        "outputId": "ce80c797-f178-4f7b-a7a5-c9f4a96094d4",
        "colab": {
          "base_uri": "https://localhost:8080/"
        }
      },
      "id": "7F1IjD2KAGLF",
      "execution_count": 215,
      "outputs": [
        {
          "output_type": "stream",
          "name": "stdout",
          "text": [
            "(22986, 709)\n",
            "[9 0 1]\n"
          ]
        }
      ]
    },
    {
      "cell_type": "code",
      "source": [
        "print(ndf[nvar].value_counts())\n",
        "ndf[nvar] = ndf[nvar].replace(9,np.nan) #9 is inconclusive according to codebook"
      ],
      "metadata": {
        "id": "K-E4sH7NBKJq",
        "outputId": "691ab95e-c5a2-449c-aa4c-d017e2d41c86",
        "colab": {
          "base_uri": "https://localhost:8080/"
        }
      },
      "id": "K-E4sH7NBKJq",
      "execution_count": 216,
      "outputs": [
        {
          "output_type": "stream",
          "name": "stdout",
          "text": [
            "1    19154\n",
            "0     3801\n",
            "9       31\n",
            "Name: WhetherDefendantWasReleasedPretrial, dtype: int64\n"
          ]
        }
      ]
    },
    {
      "cell_type": "code",
      "source": [
        "tvar = \"ImposedSentenceAllChargeInContactEvent\"\n",
        "ndf[tvar].unique()"
      ],
      "metadata": {
        "id": "rAwhzBqcB9mC",
        "outputId": "c920418b-22fc-4eb1-9f61-5ef61b527ffb",
        "colab": {
          "base_uri": "https://localhost:8080/"
        }
      },
      "id": "rAwhzBqcB9mC",
      "execution_count": 217,
      "outputs": [
        {
          "output_type": "execute_result",
          "data": {
            "text/plain": [
              "array([' ', '60', '12', '.985626283367556', '36', '6', '24',\n",
              "       '5.91375770020534', '120', '72', '11.9917864476386', '0',\n",
              "       '2.95687885010267', '84', '108', '300', '240', '180', '4', '96',\n",
              "       '2', '54', '.328542094455852', '44', '5', '115', '132', '48',\n",
              "       '258', '34', '76', '.164271047227926', '.131416837782341', '111',\n",
              "       '9', '3', '1.97125256673511', '36.9856262833676',\n",
              "       '.0657084188911704', '35.4928131416838', '106.492813141684', '8',\n",
              "       '35', '18.3141683778234', '480', '32', '93', '234', '732',\n",
              "       '1.16427104722793', '4.6570841889117', '21', '7',\n",
              "       '4.49281314168378', '18', '600', '43.1642710472279', '179', '52',\n",
              "       '30', '20', '192', '702', '14', '55', '53', '11.9055441478439',\n",
              "       '114', '35.0061601642711', '68', '.657084188911704',\n",
              "       '46.6242299794661', '102', '65', '200', '57', '24.3285420944559',\n",
              "       '12.1642710472279', '117', '81.4928131416838', '22.4928131416838',\n",
              "       '1980', '3.6570841889117', '56', '10', '2.79260780287474', '1',\n",
              "       '47', '22', '1500', '40', '284', '11', '118', '42', '162', '156',\n",
              "       '47.2956878850103', '105', '51', '246', '29', '75', '324', '360',\n",
              "       '34.4804928131417', '120.328542094456', '59.9260780287474', '66',\n",
              "       '59.9917864476386', '660', '51.1642710472279', '14.9568788501027',\n",
              "       '3.98562628336756', '78', '228', '1.47843942505133', '62', '4.8',\n",
              "       '86', '168', '23', '33', '48.0328542094456', '720', '348', '1200',\n",
              "       '27', '49', '87', '420', '63', '79.9260780287474',\n",
              "       '57.0349075975359', '49.9712525667351', '59.4928131416838', '17',\n",
              "       '238.492813141684', '60.9856262833676', '126', '45', '158', '216',\n",
              "       '227', '42.9568788501027', '445', '70.952772073922', '516',\n",
              "       '177.82135523614', '1752', '90', '1080', '141', '4.82956878850103',\n",
              "       '230', '31', '2208', '52.5133470225873', '69', '26',\n",
              "       '33.4928131416838', '140', '131', '344', '219', '101', '71', '59',\n",
              "       '58', '120.197125256674', '67', '35.4004106776181',\n",
              "       '3.28542094455852', '40.1642710472279', '91', '1.7741273100616',\n",
              "       '155', '34.4928131416838', '81', '92.3285420944559',\n",
              "       '3.5482546201232', '207', '74', '518', '28', '8.95687885010267',\n",
              "       '237', '404.673511293634', '18.1642710472279', '10.7433264887064',\n",
              "       '551', '39', '15', '124', '43', '176', '19.4928131416838', '482',\n",
              "       '129', '88', '46', '45.8542094455852', '128.628336755647',\n",
              "       '136.492813141684', '108.328542094456', '50', '363.663244353183',\n",
              "       '288', '250', '107', '81.0225872689938', '444', '205',\n",
              "       '10.6570841889117', '19', '66.9856262833676', '38.4928131416838',\n",
              "       '264', '276', '173', '222', '144', '294', '336', '431', '450',\n",
              "       '73', '99.3285420944559', '128', '30.8069815195072',\n",
              "       '31.5256673511294', '127', '202', '55.3285420944559', '89', '242',\n",
              "       '1.31416837782341', '1029', '.788501026694045', '194.858316221766',\n",
              "       '399', '39.6570841889117', '56.95687885', '198',\n",
              "       '120.985626283368', '47.6570841889117', '148', '6.8993839835729',\n",
              "       '65.3285420944559', '5.95277207392197', '.0985626283367557',\n",
              "       '3.32854209445585', '3.94250513347023', '12.9856262833676',\n",
              "       '6.98562628336756', '13.1498973305955', '15.1642710472279',\n",
              "       '17.1971252566735', '17.9137577002053', '104', '212',\n",
              "       '24.6570841889117', '72.6570841889117', '2.98562628336756',\n",
              "       '144.985626283368', '31.9712525667351', '183', '4.98562628336756',\n",
              "       '11.8213552361396', '252', '12.394250513347', '42.4928131416838',\n",
              "       '10.1642710472279', '11.1642710472279', '5.49281314168378',\n",
              "       '59.6632443531827', '12.3285420944559', '48.9856262833676',\n",
              "       '240.985626283368', '2.6570841889117', '540', '2.97125256673511',\n",
              "       '6.32854209445585', '23.6632443531828', '133.657084188912',\n",
              "       '35.3285420944559', '456', '103', '1.72279260780287',\n",
              "       '12.6570841889117', '11.6570841889117', '60.3285420944559',\n",
              "       '3.78850102669405', '576', '2.13141683778234', '492',\n",
              "       '14.9856262833676', '24.9856262833676', '61.9712525667351',\n",
              "       '5.6570841889117', '16', '42.1642710472279', '.492813141683778',\n",
              "       '138', '13.3141683778234', '11.8932238193018', '5.32854209445585',\n",
              "       '95', '62.6570841889117', '3.08829568788501', '11.8275154004107',\n",
              "       '1.64271047227926', '47.9917864476386', '4.27104722792608',\n",
              "       '8.32854209445585', '3.31416837782341', '70', '77',\n",
              "       '1.09856262833676', '48.1642710472279', '27.4928131416838',\n",
              "       '6.93839835728953', '1011', '.68993839835729', '1.1170431211499',\n",
              "       '1.49281314168378', '4.16427104722793', '1.19712525667351',\n",
              "       '4.07392197125257', '188', '11.3285420944559', '.0328542094455852',\n",
              "       '432', '11.952772073922', '36.4928131416838', '23.9835728952772',\n",
              "       '9.98562628336756', '98', '36.3285420944559', '112',\n",
              "       '.394250513347023', '13', '.262833675564682', '13.7987679671458',\n",
              "       '5.8870636550308', '354', '5.91991786447639', '24.1642710472279',\n",
              "       '62.95687885', '4.59958932238193', '123', '2.32854209445585',\n",
              "       '23.9240246406571', '204', '197', '174', '16.1498973305955', '840',\n",
              "       '440', '98.95687885', '17.952772073922', '63.9425051334702',\n",
              "       '60.1314168377823', '12.1314168377823', '172.952772073922',\n",
              "       '.197125256673511', '138.164271047228', '4.92813141683778',\n",
              "       '.919917864476386', '18.9856262833676', '6.6570841889117',\n",
              "       '2.85420944558522', '8.91375770020534', '146', '12.4928131416838',\n",
              "       '.558521560574949', '.722792607802875', '5.82135523613963',\n",
              "       '84.9856262833676', '6.16427104722793', '15.9856262833676',\n",
              "       '64.5585215605749', '38.299794661191', '11.958932238193',\n",
              "       '3.1211498973306', '126.328542094456', '5.16427104722793', '64',\n",
              "       '42.6570841889117', '312', '19.9712525667351', '82.3285420944559',\n",
              "       '23.9712525667351', '17.6242299794661', '121.971252566735',\n",
              "       '59.6550308008214', '1.32854209445585', '7.97125256673511',\n",
              "       '1.91991786447639', '.525667351129363', '9.32854209445585',\n",
              "       '42.9856262833676', '41.9137577002053', '72.9856262833676',\n",
              "       '12.4784394250513', '5.19096509240246', '473', '16.6570841889117',\n",
              "       '109', '86.3285420944559', '41', '1.90554414784394',\n",
              "       '94.1642710472279', '302', '4.39425051334702', '10.8213552361396',\n",
              "       '18.3285420944559', '154', '83', '110.956878850103', '226',\n",
              "       '96.0328542094456', '4.82135523613963', '30.3285420944559',\n",
              "       '37.9712525667351', '50.4640657084189', '286', '99',\n",
              "       '99.4928131416838', '2.6611909650924', '70.9712525667351',\n",
              "       '13.9712525667351', '23.6570841889117', '.459958932238193',\n",
              "       '132.492813141684', '283', '49.3141683778234', '27.9856262833676',\n",
              "       '38', '7.6570841889117', '83.6550308008214', '10.9199178644764',\n",
              "       '162.328542094456', '37', '132.328542094456', '35.952772073922',\n",
              "       '165', '10.9856262833676', '20.1642710472279', '2.59137577002053',\n",
              "       '175', '180.985626283368', '10.3285420944559', '36.1642710472279',\n",
              "       '120.657084188912', '232', '152', '8.98562628336756', '167',\n",
              "       '11.0657084188912', '11.2032854209446', '5.19712525667351',\n",
              "       '3.16427104722793', '60.1642710472279', '1.18275154004107',\n",
              "       '21.1642710472279', '2.19712525667351', '4.19712525667351',\n",
              "       '2.62833675564682', '119.952772073922', '119.958932238193',\n",
              "       '9.49281314168378', '5.25667351129363', '15.3285420944559',\n",
              "       '2.82135523613963', '192.985626283368', '48.6570841889117',\n",
              "       '5.95687885010267', '2.29979466119097', '960', '2.36550308008214',\n",
              "       '116', '19.5133470225873', '1.6570841889117'], dtype=object)"
            ]
          },
          "metadata": {},
          "execution_count": 217
        }
      ]
    },
    {
      "cell_type": "code",
      "source": [
        "pd.to_numeric(ndf[tvar],errors='coerce')\n",
        "print(ndf[tvar])\n",
        "xvar = \"SentenceTypeAllChargesAtConvictionInContactEvent\"\n",
        "tvar_NA = ndf[tvar].isnull() # missing variable\n",
        "print( pd.crosstab(tvar_NA, ndf[xvar]))"
      ],
      "metadata": {
        "id": "11GfxJ2cCWob",
        "outputId": "41b82406-29e8-408c-c520-56e7f07f0b10",
        "colab": {
          "base_uri": "https://localhost:8080/"
        }
      },
      "id": "11GfxJ2cCWob",
      "execution_count": 218,
      "outputs": [
        {
          "output_type": "stream",
          "name": "stdout",
          "text": [
            "0                        \n",
            "1                      60\n",
            "2                      12\n",
            "3        .985626283367556\n",
            "4                        \n",
            "               ...       \n",
            "22981                    \n",
            "22982                    \n",
            "22983                    \n",
            "22984                    \n",
            "22985                    \n",
            "Name: ImposedSentenceAllChargeInContactEvent, Length: 22986, dtype: object\n",
            "SentenceTypeAllChargesAtConvictionInContactEvent     0     1    2     4    9\n",
            "ImposedSentenceAllChargeInContactEvent                                      \n",
            "False                                             8720  4299  914  8779  274\n"
          ]
        }
      ]
    },
    {
      "cell_type": "code",
      "source": [
        "# 4 is cases where the charges were dismissed\n",
        "ndf[tvar] = ndf[tvar].mask(ndf[xvar] == 4, 0) # Replace tvar with 0 when xvar is 4\n",
        "ndf[tvar] = ndf[tvar].mask(ndf[xvar] == 9, np.nan) # Replace tvar with np.nan when xvar is 9\n",
        "ndf[tvar].unique()\n",
        "tvar_NA = ndf[tvar].isnull() # missing variable\n",
        "print( pd.crosstab(tvar_NA, ndf[xvar])) #less missing, more organized"
      ],
      "metadata": {
        "id": "7ZdXJA2CEcee",
        "outputId": "6dceb354-b3a3-4280-a88a-0a8fe2ba8b40",
        "colab": {
          "base_uri": "https://localhost:8080/"
        }
      },
      "id": "7ZdXJA2CEcee",
      "execution_count": 219,
      "outputs": [
        {
          "output_type": "stream",
          "name": "stdout",
          "text": [
            "SentenceTypeAllChargesAtConvictionInContactEvent     0     1    2     4    9\n",
            "ImposedSentenceAllChargeInContactEvent                                      \n",
            "False                                             8720  4299  914  8779    0\n",
            "True                                                 0     0    0     0  274\n"
          ]
        }
      ]
    },
    {
      "cell_type": "markdown",
      "id": "649494cd-cfd6-4f80-992a-9994fc19e1d5",
      "metadata": {
        "id": "649494cd-cfd6-4f80-992a-9994fc19e1d5"
      },
      "source": [
        "**Q3.** Many important datasets contain a race variable, typically limited to a handful of values often including Black, White, Asian, Latino, and Indigenous. This question looks at data gathering efforts on this variable by the U.S. Federal government.\n",
        "\n",
        "1. How did the most recent US Census gather data on race?\n",
        "\n",
        "\n",
        "The most recent US Census gathered data on race through a \"check all that apply\" format, allowing respondents to select multiple racial categories that applied to them. Additionally, there were write-in boxes for more nuanced responses, providing individuals the opportunity to specify their race further if needed.\n",
        "2. Why do we gather these data? What role do these kinds of data play in politics and society? Why does data quality matter?\n",
        "\n",
        "\n",
        "These data are collected for economic and sociological reasons, shaping policy decisions, resource allocation, and societal understanding. Accurate data quality is vital for informed decision-making and fostering inclusivity by reflecting the complexity of demographics and needs accurately.\n",
        "3. Please provide a constructive criticism of how the Census was conducted: What was done well? What do you think was missing? How should future large scale surveys be adjusted to best reflect the diversity of the population? Could some of the Census' good practices be adopted more widely to gather richer and more useful data?\n",
        "\n",
        "\n",
        "Constructive Criticism of the Census:\n",
        "\n",
        "What was done well:\n",
        "\n",
        "Providing broad race categories with additional nuance options.\n",
        "Addressing contemporary discussions about sex and gender in the HPS survey.\n",
        "What was missing:\n",
        "\n",
        "Lack of options for uncertainty or preference not to answer, especially in SOGI questions.\n",
        "Limited nuance in older versions of the Census race questions.\n",
        "Absence of sexuality data in the ACS/Census surveys.\n",
        "Adjustments for future surveys:\n",
        "\n",
        "Implementing a \"check all that apply\" approach for race questions for better diversity representation.\n",
        "Enhancing data gathering by incorporating nuanced questions and options for uncertainty.\n",
        "Adopting practices from the HPS survey to capture contemporary discussions about sex and gender.\n",
        "Expanding data collection on sexuality for a more comprehensive demographic understanding.\n",
        "\n",
        "4. How did the Census gather data on sex and gender? Please provide a similar constructive criticism of their practices.\n",
        "\n",
        "\n",
        "The Census gathered data on sex and gender by asking respondents about their sex assigned at birth and their current gender identity, with options for male, female, transgender, and non-binary identities.\n",
        "\n",
        "Constructive criticism of their practices:\n",
        "\n",
        "While the Census includes options for transgender and non-binary identities, it lacks the ability for respondents to indicate uncertainty or preference not to answer, potentially limiting inclusivity.\n",
        "The question about sex assigned at birth may be considered intrusive by some individuals, and it does not offer options for \"I don't know\" or \"Prefer not to answer,\" which could be seen as bad practice.\n",
        "While the Census addresses contemporary discussions about sex and gender to some extent, there may be room for improvement in terms of providing more nuanced options and respecting respondents' agency in choosing how to identify.\n",
        "\n",
        "\n",
        "5. When it comes to cleaning data, what concerns do you have about protected characteristics like sex, gender, sexual identity, or race? What challenges can you imagine arising when there are missing values? What good or bad practices might people adopt, and why?\n",
        "\n",
        "Concerns arise when individuals are forced into simplistic categorizations that may not reflect their multi-dimensional identities. Constructing questions that limit respondents to one-dimensional answers can overlook the complexity of identity. Imputing values for missing data without considering non-response reasons may introduce bias. Good practices involve allowing respondents to select from multiple categories and maintaining nuance during data cleaning, rather than aggregating identities into overly simplified categories.\n",
        "6. Suppose someone invented an algorithm to impute values for protected characteristics like race, gender, sex, or sexuality. What kinds of concerns would you have?\n",
        "\n",
        "Imputing values for protected characteristics using an algorithm raises concerns about privacy, bias, oversimplification of identity, legal compliance, and lack of transparency."
      ]
    }
  ],
  "metadata": {
    "colab": {
      "provenance": []
    },
    "kernelspec": {
      "display_name": "Python 3 (ipykernel)",
      "language": "python",
      "name": "python3"
    },
    "language_info": {
      "codemirror_mode": {
        "name": "ipython",
        "version": 3
      },
      "file_extension": ".py",
      "mimetype": "text/x-python",
      "name": "python",
      "nbconvert_exporter": "python",
      "pygments_lexer": "ipython3",
      "version": "3.10.4"
    }
  },
  "nbformat": 4,
  "nbformat_minor": 5
}